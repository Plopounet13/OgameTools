{
 "cells": [
  {
   "cell_type": "code",
   "execution_count": 1,
   "metadata": {
    "pycharm": {
     "name": "#%%\n"
    }
   },
   "outputs": [
    {
     "name": "stdout",
     "output_type": "stream",
     "text": [
      "[162.   0.   0.]\n",
      "[431.082   0.      0.   ]\n",
      "[    0.         11179.97069265     0.        ]\n",
      "[   0.            0.         2174.00992464]\n"
     ]
    }
   ],
   "source": [
    "import OgameTools as og\n",
    "\n",
    "dione = og.Universe()\n",
    "dione.load(\"../data/dione.json\")\n",
    "player = og.Player(\"Collector\")\n",
    "research = og.Research()\n",
    "research.plasma = 4\n",
    "planet = og.Planet(dione, player, 8, 27, 241, research, [og.bronze_metal_booster, og.commanding_staff, og.geologist])\n",
    "print(planet.base_metal())\n",
    "print(planet.metal_prod(1))\n",
    "print(planet.crystal_prod(18))\n",
    "print(planet.deut_prod(11))"
   ]
  },
  {
   "cell_type": "code",
   "execution_count": 1,
   "outputs": [],
   "source": [],
   "metadata": {
    "collapsed": false,
    "pycharm": {
     "name": "#%%\n"
    }
   }
  }
 ],
 "metadata": {
  "kernelspec": {
   "display_name": "Python 3 (ipykernel)",
   "language": "python",
   "name": "python3"
  },
  "language_info": {
   "codemirror_mode": {
    "name": "ipython",
    "version": 3
   },
   "file_extension": ".py",
   "mimetype": "text/x-python",
   "name": "python",
   "nbconvert_exporter": "python",
   "pygments_lexer": "ipython3",
   "version": "3.9.7"
  }
 },
 "nbformat": 4,
 "nbformat_minor": 1
}