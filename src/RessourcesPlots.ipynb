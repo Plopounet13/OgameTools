{
 "cells": [
  {
   "cell_type": "code",
   "execution_count": 1,
   "metadata": {
    "pycharm": {
     "name": "#%%\n"
    }
   },
   "outputs": [],
   "source": [
    "import OgameTools as og\n",
    "\n",
    "dione = og.Universe()\n",
    "dione.load(\"../data/dione.json\")\n",
    "\n",
    "player = og.Player(\"Collector\")\n",
    "\n",
    "research = og.Research()\n",
    "research.plasma = 4\n",
    "\n",
    "scadrial = og.Planet(player, dione, research, 8, 27, 241,  [og.bronze_metal_booster])\n",
    "scadrial.metal_mine.lvl = 22\n",
    "scadrial.crystal_mine.lvl = 18\n",
    "scadrial.deuterium_synt.lvl = 11\n",
    "sel = og.Planet(player, dione, research, 12, -9, 188)\n",
    "sel.metal_mine.lvl = 17\n",
    "sel.crystal_mine.lvl = 15\n",
    "sel.deuterium_synt.lvl = 13\n",
    "dagtar = og.Planet(player, dione, research, 2, 152, 171)\n",
    "sel.metal_mine.lvl = 15\n",
    "sel.crystal_mine.lvl = 20\n",
    "sel.deuterium_synt.lvl = 3"
   ]
  },
  {
   "cell_type": "code",
   "execution_count": 2,
   "outputs": [
    {
     "name": "stdout",
     "output_type": "stream",
     "text": [
      "[40488.59643524     0.             0.        ]\n",
      "[    0.         10279.21698088     0.        ]\n",
      "[   0.            0.         1985.40293292]\n"
     ]
    }
   ],
   "source": [
    "print(scadrial.metal_mine.total())\n",
    "print(scadrial.crystal_mine.total())\n",
    "print(scadrial.deuterium_synt.total())"
   ],
   "metadata": {
    "collapsed": false,
    "pycharm": {
     "name": "#%%\n"
    }
   }
  },
  {
   "cell_type": "code",
   "execution_count": 3,
   "outputs": [
    {
     "data": {
      "text/plain": "<Figure size 432x288 with 1 Axes>",
      "image/png": "[encoded data removed]"
     },
     "metadata": {
      "needs_background": "light"
     },
     "output_type": "display_data"
    },
    {
     "ename": "AttributeError",
     "evalue": "module 'OgameTools' has no attribute 'deut_cost'",
     "output_type": "error",
     "traceback": [
      "\u001B[1;31m---------------------------------------------------------------------------\u001B[0m",
      "\u001B[1;31mAttributeError\u001B[0m                            Traceback (most recent call last)",
      "Input \u001B[1;32mIn [3]\u001B[0m, in \u001B[0;36m<module>\u001B[1;34m\u001B[0m\n\u001B[0;32m     21\u001B[0m pl\u001B[38;5;241m.\u001B[39mlegend()\n\u001B[0;32m     22\u001B[0m pl\u001B[38;5;241m.\u001B[39mshow()\n\u001B[1;32m---> 24\u001B[0m \u001B[43mog\u001B[49m\u001B[38;5;241;43m.\u001B[39;49m\u001B[43mdeut_cost\u001B[49m(\u001B[38;5;241m12\u001B[39m)\n",
      "\u001B[1;31mAttributeError\u001B[0m: module 'OgameTools' has no attribute 'deut_cost'"
     ]
    }
   ],
   "source": [
    "import matplotlib.pyplot as pl\n",
    "\n",
    "def gain(mine, lvl):\n",
    "    return og.ressource2value(mine.total(lvl))\n",
    "\n",
    "def diff_gain(mine, lvl):\n",
    "    return og.ressource2value(mine.total(lvl) - mine.total(lvl-1))\n",
    "\n",
    "def rentabilite_up( mine, lvl):\n",
    "    return og.ressource2value(mine.cost(lvl) / diff_gain(mine, lvl))\n",
    "\n",
    "x = range(1,20)\n",
    "ym = [rentabilite_up(scadrial.metal_mine, lvl)/24 for lvl in x]\n",
    "yc = [rentabilite_up(dagtar.crystal_mine, lvl)/24 for lvl in x]\n",
    "ycB = [rentabilite_up(scadrial.crystal_mine, lvl)/24 for lvl in x]\n",
    "yd = [rentabilite_up(sel.deuterium_synt, lvl)/24 for lvl in x]\n",
    "pl.plot(x, ym, label=\"Metal Production\")\n",
    "pl.plot(x, yc, label=\"Crystal Production (high)\")\n",
    "pl.plot(x, ycB, label=\"Crystal Production (low)\")\n",
    "pl.plot(x, yd, label=\"Deuterium Production\")\n",
    "pl.legend()\n",
    "pl.show()\n",
    "\n",
    "og.deut_cost(12)"
   ],
   "metadata": {
    "collapsed": false,
    "pycharm": {
     "name": "#%%\n"
    }
   }
  },
  {
   "cell_type": "code",
   "execution_count": null,
   "outputs": [],
   "source": [
    "print(scadrial.metal_mine.cost())\n",
    "print(scadrial.metal_mine.cost(scadrial.metal_mine.lvl-1))"
   ],
   "metadata": {
    "collapsed": false,
    "pycharm": {
     "name": "#%%\n"
    }
   }
  },
  {
   "cell_type": "code",
   "execution_count": null,
   "outputs": [],
   "source": [],
   "metadata": {
    "collapsed": false,
    "pycharm": {
     "name": "#%%\n"
    }
   }
  },
  {
   "cell_type": "code",
   "execution_count": null,
   "outputs": [],
   "source": [],
   "metadata": {
    "collapsed": false,
    "pycharm": {
     "name": "#%%\n"
    }
   }
  }
 ],
 "metadata": {
  "kernelspec": {
   "display_name": "Python 3 (ipykernel)",
   "language": "python",
   "name": "python3"
  },
  "language_info": {
   "codemirror_mode": {
    "name": "ipython",
    "version": 3
   },
   "file_extension": ".py",
   "mimetype": "text/x-python",
   "name": "python",
   "nbconvert_exporter": "python",
   "pygments_lexer": "ipython3",
   "version": "3.9.7"
  }
 },
 "nbformat": 4,
 "nbformat_minor": 1
}